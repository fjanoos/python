{
 "cells": [
  {
   "cell_type": "markdown",
   "metadata": {},
   "source": [
    "# calculate mortage payment schedule\n"
   ]
  },
  {
   "cell_type": "code",
   "execution_count": 9,
   "metadata": {
    "collapsed": false
   },
   "outputs": [
    {
     "name": "stdout",
     "output_type": "stream",
     "text": [
      "4021.1378878215232 478409.6396157483\n"
     ]
    }
   ],
   "source": [
    "def monthly(apr, p, ny):\n",
    "    '''\n",
    "    p: principal\n",
    "    ny : number of years\n",
    "    '''    \n",
    "    r = apr/12/100;\n",
    "    n = ny*12;\n",
    "    return p*r/(1-pow(1+r, -n))\n",
    "\n",
    "print(monthly(2.875, 969200, 30), monthly(2.875, 969200, 30)*30*12 - 969200 )   \n",
    "    \n",
    "    "
   ]
  },
  {
   "cell_type": "markdown",
   "metadata": {},
   "source": [
    "# tom mcgurk's renovation loan \n",
    "---------------------------"
   ]
  },
  {
   "cell_type": "code",
   "execution_count": 19,
   "metadata": {
    "collapsed": false
   },
   "outputs": [
    {
     "name": "stdout",
     "output_type": "stream",
     "text": [
      "1180000.0 17700.0 482300.0 1197.9166666666667 2.9805100559817546 187700.0\n"
     ]
    }
   ],
   "source": [
    "from pylab import *\n",
    "purchase = 850e3 \n",
    "downpayment = 0.20*purchase\n",
    "reno =500e3;\n",
    "r = 2.875/100/12;\n",
    "T = 30 * 12;\n",
    "loan_amt = purchase + reno - downpayment\n",
    "points = loan_amt*1.5/100;\n",
    "reno_monthly = r * reno; \n",
    "err = reno_monthly/(reno-points) #effective renovation rate\n",
    "cash_to_close = downpayment + points \n",
    "print(loan_amt, points, reno - points, reno_monthly, err*12*100, cash_to_close)\n"
   ]
  },
  {
   "cell_type": "code",
   "execution_count": 20,
   "metadata": {
    "collapsed": false
   },
   "outputs": [
    {
     "name": "stdout",
     "output_type": "stream",
     "text": [
      "[[ 1.  0.  0.]\n",
      " [ 0.  1.  0.]\n",
      " [ 0.  0.  1.]]\n",
      "[[-0.83066213  0.05872664 -0.55367102]\n",
      " [-0.48502709  0.41198225  0.77137498]\n",
      " [ 0.27340289  0.90929743 -0.31373404]]\n",
      "[[  1.00000000e+00   7.04033389e-17   2.96744857e-17]\n",
      " [  7.04033389e-17   1.00000000e+00  -6.18931753e-17]\n",
      " [  4.35522735e-17  -6.18931753e-17   1.00000000e+00]]\n",
      "[[-0.83066213  0.05872664 -0.55367102]\n",
      " [-0.48502709  0.41198225  0.77137498]\n",
      " [ 0.27340289  0.90929743 -0.31373404]]\n",
      "[-0.83066213 -0.48502709  0.27340289]\n",
      "2.55109218686\n"
     ]
    }
   ],
   "source": [
    "fro\n",
    "from pylab import *\n",
    "\n",
    "from numpy import linalg\n",
    "\n",
    "A0 = eye(3)\n",
    "\n",
    "print(A0)\n",
    "\n",
    "xx = randn(3,3)\n",
    "\n",
    "xx\n",
    "\n",
    "Q,_ = linalg.qr(xx)\n",
    "\n",
    "def R_z(theta):\n",
    "    return array( [ [cos(theta), -sin(theta), 0], \n",
    "            [sin(theta), cos(theta), 0],\n",
    "            [0, 0, 1] ] );\n",
    "\n",
    "\n",
    "def R_x(theta):\n",
    "    return array( [ [ 1, 0, 0],\n",
    "            [0, cos(theta), -sin(theta)], \n",
    "            [0, sin(theta), cos(theta)]\n",
    "                 ] )\n",
    "\n",
    "\n",
    "def R_y(theta):\n",
    "    return array( [ [cos(theta), 0, sin(theta)],\n",
    "                   [0, 1,0],\n",
    "            [-sin(theta), 0, cos(theta)] ] )\n",
    "from\n",
    "\n",
    "Q = dot( dot( R_z(3), R_x(2)), R_y(7) )\n",
    "\n",
    "print (Q)\n",
    "print(dot(Q.transpose(),Q))\n",
    "\n",
    "A1 = dot( Q, A0)\n",
    "\n",
    "Q2 = linalg.solve( A0, A1)\n",
    "\n",
    "print(Q2)\n",
    "\n",
    "x2 = dot( Q2, array([1,0,0]))\n",
    "\n",
    "print(x2)\n",
    "print(arccos( dot(x2, array([1,0,0])) ) )"
   ]
  },
  {
   "cell_type": "code",
   "execution_count": null,
   "metadata": {
    "collapsed": true
   },
   "outputs": [],
   "source": [
    "from pylab import *\n",
    "from numpy.linalg import *\n",
    "\n",
    "\n"
   ]
  },
  {
   "cell_type": "code",
   "execution_count": null,
   "metadata": {
    "collapsed": true
   },
   "outputs": [],
   "source": []
  },
  {
   "cell_type": "markdown",
   "metadata": {},
   "source": [
    "How many triangles are there with vertex coordinates of (x1, y1), (x2, y2) and (x3, y3) such that all the coordinates are non-negative integers with magnitudes of at most 1000?\n",
    "\n",
    "Constraints:\n",
    "\n",
    " i) Area of triangle has to be positive\n",
    "\n",
    "ii) ABC is same as BCA\n",
    "\n",
    "sum x1=0 to 999 (sum y1=0 to 1000) (sum x2=x1 to 1000 (sum y2=0 to 1000) (sum x3=x2 to 1000 (sum y3=y2 to 1000 ) ) ) \n",
    "= sum x1=0 to 999 ( sum x2=x1 to 1000 1001*1001*1001*(1001-x2) )\n",
    "a = 168172008673168500\n",
    "\n",
    "subtract out p1=p2 i.e. x1 = x2 and y1 = y2\n",
    "sum x1=0 to 999 ( 1001*1001*(1001-x1) )\n",
    "b = 502503501500\n",
    "\n",
    "subtract out p2=p3; i.e. x2 = x3 and y2 = y3\n",
    "sum x1=0 to 999 (sum y1=0 to 1000) (sum x2=x1 to 1000 (sum y2=0 to 1000) ) \n",
    "= sum x1=0 to 999 sum x2=x1 to 1000 (1001*1001)\n",
    "c = 502503501500\n",
    "\n",
    "subtract out p1=p3; x1 = x3 and y1 = y3\\\n",
    "sum x1=0 to 999 (sum y1=0 to 1000) (sum x2=x1 to 1000 (sum y2=0 to 1000) ) \n",
    "= sum x1=0 to 999 sum x2=x1 to 1000 (1001*1001)\n",
    "d = 502503501500\n",
    "\n",
    "add in p1=p2=p3; ee y3 = y2 = y1 and x3=x2 = x1\n",
    "e = 1000 * 1001 \n",
    "\n",
    "Subtract out x1=x2=x3\n",
    "f = 1000 *1001**3\n",
    " \n",
    "Subtract out y1=y2=y3\n",
    "1001 * sum x1=0 to 999 ( sum x2=x1 to 1000 (1001-x2) )\n",
    "g =  167836168500\n",
    "\n",
    "\n",
    "##### garbage\n",
    "\n",
    "don't subtract out x1=x2=x3\n",
    "= 1000 ( sum y1=0 to 1000 (sum y2=0 to 1000 (sum y3=y2 to 1000) ) \n",
    "= 1000*1001*(sum j=0 to 1000 (1001-j) )   \n",
    "= Sum[1001*1001*(1001-j) , j = 0 to 999]\n",
    "b = 502503501500\n",
    "\n",
    "don't subtract out y1=y2= y3 \n",
    "= sum x1=0 to 999 sum x2=x1 to 1000 sum x3=x1 to 1000 (1000) \n",
    "= 1001* sum x1=0 to 999 ((1001-x1)^2)\n",
    "c = 335170335500\n",
    "\n",
    "add in y3 = y2 = y1 and x3=x2 = x1\n",
    "d = 1000 * 1000 \n",
    "\n"
   ]
  },
  {
   "cell_type": "code",
   "execution_count": 16,
   "metadata": {
    "collapsed": false
   },
   "outputs": [
    {
     "data": {
      "text/plain": [
       "168169330324495500"
      ]
     },
     "execution_count": 16,
     "metadata": {},
     "output_type": "execute_result"
    }
   ],
   "source": [
    "a = 168172008673168500\n",
    "b =       502503501500\n",
    "c =       502503501500\n",
    "d =       502503501500\n",
    "e =        1000 * 1001\n",
    "f =      1003003001000\n",
    "g =       167836168500\n",
    "a - b - c - d + e - f  -g"
   ]
  },
  {
   "cell_type": "code",
   "execution_count": null,
   "metadata": {
    "collapsed": true
   },
   "outputs": [],
   "source": []
  },
  {
   "cell_type": "markdown",
   "metadata": {},
   "source": [
    "### old solution to the above problem\n",
    "sum x1=0 to 1000 (sum y1=0 to 1000 (sum x2=x1 to 1000 (sum y2=0 to 1000  (sum x3=x1 to 1000 (sum y3=y2 to 1000 1) ) ))) \n",
    "= sum x1=0 to 1000 (1000 (1001-x1)*(sum y2=0 to 1000 (1001-x1)(1001-y2) ))\n",
    "= sum x1=0 to 1000 ( sum y2=0 to 1000 (1000*(1001-x1)*(1001-x1)(1001-y2)) )\n",
    "a = 167920338587001000\n",
    "\n",
    "subtract out p1=p2 i.e. x1 = x2 and y1 = y2\n",
    "sum x1=0 to 1000 (sum y1=0 to 1000 ( sum x3=x1 to 1000 (sum y3=y1 to 1000 1)) ) \n",
    "sum x1=0 to 1000 (sum y1=0 to 1000 ( (1001-x1) (1001-y1)  ) \n",
    "b = 251503253001\n",
    "\n",
    "subtract out p2=p3; i.e. x2 = x3 and y2 = y3\n",
    "sum x1=0 to 1000 (sum y1=0 to 1000 (1001-x1) 1001 ) \n",
    "sum x1=0 to 1000 (1001*(1001-x1)*1001 ) \n",
    "c = 502504503501\n",
    "\n",
    "subtract out p1=p3; x1 = x3 and y1 = y3\\\n",
    "sum x1=0 to 1000 (sum y1=0 to 1000 (sum x2=x1 to 1000 (sum y2=0 to 1000))\n",
    "= sum i=0 to 1000 (1001 * 1001 * (1001-i) )\n",
    "d = 502504503501\n",
    "\n",
    "add in p1=p2=p3; e y3 = y2 = y1 and x3=x2 = x1\n",
    "e = 1001 * 1001 \n",
    "\n",
    "\n",
    "##### garbage\n",
    "\n",
    "don't subtract out x1=x2=x3\n",
    "= 1000 ( sum y1=0 to 1000 (sum y2=0 to 1000 (sum y3=y2 to 1000) ) \n",
    "= 1000*1001*(sum j=0 to 1000 (1001-j) )   \n",
    "= Sum[1001*1001*(1001-j) , j = 0 to 999]\n",
    "b = 502503501500\n",
    "\n",
    "don't subtract out y1=y2= y3 \n",
    "= sum x1=0 to 999 sum x2=x1 to 1000 sum x3=x1 to 1000 (1000) \n",
    "= 1001* sum x1=0 to 999 ((1001-x1)^2)\n",
    "c = 335170335500\n",
    "\n",
    "add in y3 = y2 = y1 and x3=x2 = x1\n",
    "d = 1000 * 1000 \n",
    "\n"
   ]
  }
 ],
 "metadata": {
  "kernelspec": {
   "display_name": "Python 3",
   "language": "python",
   "name": "python3"
  },
  "language_info": {
   "codemirror_mode": {
    "name": "ipython",
    "version": 3
   },
   "file_extension": ".py",
   "mimetype": "text/x-python",
   "name": "python",
   "nbconvert_exporter": "python",
   "pygments_lexer": "ipython3",
   "version": "3.4.4"
  }
 },
 "nbformat": 4,
 "nbformat_minor": 0
}
